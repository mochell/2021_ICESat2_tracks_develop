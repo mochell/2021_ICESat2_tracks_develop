{
 "cells": [
  {
   "cell_type": "code",
   "execution_count": null,
   "metadata": {},
   "outputs": [],
   "source": []
  }
 ],
 "metadata": {
  "kernelspec": {
   "display_name": "Python 3.7.9 ('py37')",
   "language": "python",
   "name": "python3"
  },
  "language_info": {
   "name": "python",
   "version": "3.7.9"
  },
  "vscode": {
   "interpreter": {
    "hash": "bda61a32950e8ae34331484a1296938928d965562698c000b65d2ab346626622"
   }
  }
 },
 "nbformat": 4,
 "nbformat_minor": 5
}
